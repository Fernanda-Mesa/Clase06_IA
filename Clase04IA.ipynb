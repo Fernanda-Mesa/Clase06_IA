{
  "nbformat": 4,
  "nbformat_minor": 0,
  "metadata": {
    "colab": {
      "provenance": [],
      "authorship_tag": "ABX9TyP86ZmDZb1SRo/1FwtYtErS",
      "include_colab_link": true
    },
    "kernelspec": {
      "name": "python3",
      "display_name": "Python 3"
    },
    "language_info": {
      "name": "python"
    }
  },
  "cells": [
    {
      "cell_type": "markdown",
      "metadata": {
        "id": "view-in-github",
        "colab_type": "text"
      },
      "source": [
        "<a href=\"https://colab.research.google.com/github/Fernanda-Mesa/InteligenciaArtificial_MachineLearning/blob/main/Clase04IA.ipynb\" target=\"_parent\"><img src=\"https://colab.research.google.com/assets/colab-badge.svg\" alt=\"Open In Colab\"/></a>"
      ]
    },
    {
      "cell_type": "markdown",
      "source": [
        "**Tipo de arreglo de datos, desde un numero hasta otro numero.**"
      ],
      "metadata": {
        "id": "PRqJdy5MVDmG"
      }
    },
    {
      "cell_type": "code",
      "execution_count": 1,
      "metadata": {
        "id": "LDWgcaEyaRJn"
      },
      "outputs": [],
      "source": [
        "import numpy as np"
      ]
    },
    {
      "cell_type": "markdown",
      "source": [
        "**ALGORITMOS DE CADENA**"
      ],
      "metadata": {
        "id": "VvQRmJHpU24i"
      }
    },
    {
      "cell_type": "code",
      "source": [
        "cadena_numero = \"1\"\n",
        "print(cadena_numero+cadena_numero)"
      ],
      "metadata": {
        "colab": {
          "base_uri": "https://localhost:8080/"
        },
        "id": "8zw1GSadU6qL",
        "outputId": "f61a5c72-44c8-4ccf-8979-150d3f75e5fe"
      },
      "execution_count": 2,
      "outputs": [
        {
          "output_type": "stream",
          "name": "stdout",
          "text": [
            "11\n"
          ]
        }
      ]
    },
    {
      "cell_type": "code",
      "source": [
        "int(cadena_numero)+int(cadena_numero)"
      ],
      "metadata": {
        "colab": {
          "base_uri": "https://localhost:8080/"
        },
        "id": "AJfSiGTrU9v2",
        "outputId": "c7ecbad7-90e7-4251-e2db-e79ce85f51f7"
      },
      "execution_count": 3,
      "outputs": [
        {
          "output_type": "execute_result",
          "data": {
            "text/plain": [
              "2"
            ]
          },
          "metadata": {},
          "execution_count": 3
        }
      ]
    },
    {
      "cell_type": "markdown",
      "source": [
        "**ARREGLOS DE DATOS**"
      ],
      "metadata": {
        "id": "p1k9KCKDVT-g"
      }
    },
    {
      "cell_type": "code",
      "source": [
        "arrango = np.arange(10,20,2)\n",
        "print(arrango)"
      ],
      "metadata": {
        "colab": {
          "base_uri": "https://localhost:8080/"
        },
        "id": "Ps5a_QFZVJfD",
        "outputId": "165c28ae-721b-49c1-bb6b-47aa08262937"
      },
      "execution_count": 4,
      "outputs": [
        {
          "output_type": "stream",
          "name": "stdout",
          "text": [
            "[10 12 14 16 18]\n"
          ]
        }
      ]
    },
    {
      "cell_type": "markdown",
      "source": [
        "**ARRANGO es similar que array pero con algunas diferencias...**"
      ],
      "metadata": {
        "id": "9dWA4s0dbSQr"
      }
    },
    {
      "cell_type": "code",
      "source": [
        "arrango = np.arange(10,20,2)\n",
        "print(arrango)"
      ],
      "metadata": {
        "colab": {
          "base_uri": "https://localhost:8080/"
        },
        "id": "PlVkCY8SbPfn",
        "outputId": "7e1567d9-921b-4bad-e345-49f31795fa3b"
      },
      "execution_count": 5,
      "outputs": [
        {
          "output_type": "stream",
          "name": "stdout",
          "text": [
            "[10 12 14 16 18]\n"
          ]
        }
      ]
    },
    {
      "cell_type": "code",
      "source": [
        "np.linspace(10,20,5)"
      ],
      "metadata": {
        "colab": {
          "base_uri": "https://localhost:8080/"
        },
        "id": "-2mbPG1_bfMo",
        "outputId": "88e67796-6814-4019-a10d-50ec534b92f5"
      },
      "execution_count": 6,
      "outputs": [
        {
          "output_type": "execute_result",
          "data": {
            "text/plain": [
              "array([10. , 12.5, 15. , 17.5, 20. ])"
            ]
          },
          "metadata": {},
          "execution_count": 6
        }
      ]
    },
    {
      "cell_type": "code",
      "source": [
        "A = np.linspace(10,20,5)\n",
        "print(A)"
      ],
      "metadata": {
        "colab": {
          "base_uri": "https://localhost:8080/"
        },
        "id": "vAvvcbWhbzpK",
        "outputId": "961cbf53-2832-4159-ed6e-4a93bd31a5f6"
      },
      "execution_count": 7,
      "outputs": [
        {
          "output_type": "stream",
          "name": "stdout",
          "text": [
            "[10.  12.5 15.  17.5 20. ]\n"
          ]
        }
      ]
    },
    {
      "cell_type": "code",
      "source": [
        "a = arrango+arrango\n",
        "print(a)"
      ],
      "metadata": {
        "colab": {
          "base_uri": "https://localhost:8080/"
        },
        "id": "0EQ5bs67b38-",
        "outputId": "8f7c6f08-6598-4197-f111-cebb4979b81b"
      },
      "execution_count": 8,
      "outputs": [
        {
          "output_type": "stream",
          "name": "stdout",
          "text": [
            "[20 24 28 32 36]\n"
          ]
        }
      ]
    },
    {
      "cell_type": "code",
      "source": [
        "a1 = arrango*arrango\n",
        "print(a1)"
      ],
      "metadata": {
        "colab": {
          "base_uri": "https://localhost:8080/"
        },
        "id": "4PsLwHqBb5Te",
        "outputId": "0d0570da-e888-4ac8-a125-f30ecc3cd5f3"
      },
      "execution_count": 9,
      "outputs": [
        {
          "output_type": "stream",
          "name": "stdout",
          "text": [
            "[100 144 196 256 324]\n"
          ]
        }
      ]
    },
    {
      "cell_type": "code",
      "source": [
        "arr1 = np.array([1, 2, 3, 4, 5])\n",
        "print(arr1)"
      ],
      "metadata": {
        "colab": {
          "base_uri": "https://localhost:8080/"
        },
        "id": "9GJeH3Zbb8mc",
        "outputId": "78bd8e13-fcc9-489f-d557-6ef5fe20e43a"
      },
      "execution_count": 10,
      "outputs": [
        {
          "output_type": "stream",
          "name": "stdout",
          "text": [
            "[1 2 3 4 5]\n"
          ]
        }
      ]
    },
    {
      "cell_type": "code",
      "source": [
        "arr1 = np.array([5,6,7,8,9])\n",
        "print(arr1)"
      ],
      "metadata": {
        "colab": {
          "base_uri": "https://localhost:8080/"
        },
        "id": "CMHysQGib_Ia",
        "outputId": "31509f05-c5f3-4251-a540-8701fcec9ffd"
      },
      "execution_count": 11,
      "outputs": [
        {
          "output_type": "stream",
          "name": "stdout",
          "text": [
            "[5 6 7 8 9]\n"
          ]
        }
      ]
    },
    {
      "cell_type": "code",
      "source": [
        "\n",
        "arr2 = np.array((1,2,3,4,5))\n",
        "print(arr2)"
      ],
      "metadata": {
        "colab": {
          "base_uri": "https://localhost:8080/"
        },
        "id": "G-RmA6u5cBoT",
        "outputId": "130429e3-962b-47d5-e5a7-bb71e1f7e8ae"
      },
      "execution_count": 12,
      "outputs": [
        {
          "output_type": "stream",
          "name": "stdout",
          "text": [
            "[1 2 3 4 5]\n"
          ]
        }
      ]
    },
    {
      "cell_type": "code",
      "source": [
        "arr3 = np.array({'a':1, 'b':2, 'c':3})\n",
        "print(arr3)"
      ],
      "metadata": {
        "colab": {
          "base_uri": "https://localhost:8080/"
        },
        "id": "46LjMsn3cFsK",
        "outputId": "4fa2a97a-b7bf-48c0-da56-cb64caf01ef7"
      },
      "execution_count": 13,
      "outputs": [
        {
          "output_type": "stream",
          "name": "stdout",
          "text": [
            "{'a': 1, 'b': 2, 'c': 3}\n"
          ]
        }
      ]
    },
    {
      "cell_type": "code",
      "source": [
        "arr5 = np.arange(5)\n",
        "print(arr5)"
      ],
      "metadata": {
        "colab": {
          "base_uri": "https://localhost:8080/"
        },
        "id": "jIZB2iM3cHWd",
        "outputId": "aff3319e-d658-435e-a77b-f09086f28520"
      },
      "execution_count": 14,
      "outputs": [
        {
          "output_type": "stream",
          "name": "stdout",
          "text": [
            "[0 1 2 3 4]\n"
          ]
        }
      ]
    },
    {
      "cell_type": "code",
      "source": [
        "a = np.arange(10)\n",
        "print(a)"
      ],
      "metadata": {
        "colab": {
          "base_uri": "https://localhost:8080/"
        },
        "id": "zoNbo87ZcLPG",
        "outputId": "e3d9f099-47ed-4c28-89f9-705ecfa40e7d"
      },
      "execution_count": 15,
      "outputs": [
        {
          "output_type": "stream",
          "name": "stdout",
          "text": [
            "[0 1 2 3 4 5 6 7 8 9]\n"
          ]
        }
      ]
    },
    {
      "cell_type": "code",
      "source": [
        "b = np.arange(1,10)\n",
        "print(b)"
      ],
      "metadata": {
        "colab": {
          "base_uri": "https://localhost:8080/"
        },
        "id": "dxpeMqz4cMh7",
        "outputId": "c56d3078-c198-4d3d-dc54-24d8c209bc3f"
      },
      "execution_count": 16,
      "outputs": [
        {
          "output_type": "stream",
          "name": "stdout",
          "text": [
            "[1 2 3 4 5 6 7 8 9]\n"
          ]
        }
      ]
    },
    {
      "cell_type": "code",
      "source": [
        "c = np.arange(2,101,2)\n",
        "print(c)"
      ],
      "metadata": {
        "colab": {
          "base_uri": "https://localhost:8080/"
        },
        "id": "98fy0OaBcPL-",
        "outputId": "2795d9c1-8fa3-476c-86c3-1f7ea4e9edcd"
      },
      "execution_count": 17,
      "outputs": [
        {
          "output_type": "stream",
          "name": "stdout",
          "text": [
            "[  2   4   6   8  10  12  14  16  18  20  22  24  26  28  30  32  34  36\n",
            "  38  40  42  44  46  48  50  52  54  56  58  60  62  64  66  68  70  72\n",
            "  74  76  78  80  82  84  86  88  90  92  94  96  98 100]\n"
          ]
        }
      ]
    },
    {
      "cell_type": "code",
      "source": [
        "d = np.arange(1,101,2)\n",
        "print(d)"
      ],
      "metadata": {
        "colab": {
          "base_uri": "https://localhost:8080/"
        },
        "id": "KcMQiq6ucRF3",
        "outputId": "54be7d94-2f08-4eaa-f5c3-a08407b9d5de"
      },
      "execution_count": 18,
      "outputs": [
        {
          "output_type": "stream",
          "name": "stdout",
          "text": [
            "[ 1  3  5  7  9 11 13 15 17 19 21 23 25 27 29 31 33 35 37 39 41 43 45 47\n",
            " 49 51 53 55 57 59 61 63 65 67 69 71 73 75 77 79 81 83 85 87 89 91 93 95\n",
            " 97 99]\n"
          ]
        }
      ]
    },
    {
      "cell_type": "code",
      "source": [
        "e = np.arange(1,100,2,dtype=float)\n",
        "print(e)"
      ],
      "metadata": {
        "colab": {
          "base_uri": "https://localhost:8080/"
        },
        "id": "zexz0cepcSpV",
        "outputId": "5090baf4-3791-4e3c-d952-488f282a6196"
      },
      "execution_count": 19,
      "outputs": [
        {
          "output_type": "stream",
          "name": "stdout",
          "text": [
            "[ 1.  3.  5.  7.  9. 11. 13. 15. 17. 19. 21. 23. 25. 27. 29. 31. 33. 35.\n",
            " 37. 39. 41. 43. 45. 47. 49. 51. 53. 55. 57. 59. 61. 63. 65. 67. 69. 71.\n",
            " 73. 75. 77. 79. 81. 83. 85. 87. 89. 91. 93. 95. 97. 99.]\n"
          ]
        }
      ]
    },
    {
      "cell_type": "code",
      "source": [
        "f = np.arange(1.3,100,2.9,dtype=float)\n",
        "print(f)"
      ],
      "metadata": {
        "colab": {
          "base_uri": "https://localhost:8080/"
        },
        "id": "RJxfPyW3cVNY",
        "outputId": "4d0af434-2e81-4892-86f3-56270c36e9e5"
      },
      "execution_count": 20,
      "outputs": [
        {
          "output_type": "stream",
          "name": "stdout",
          "text": [
            "[ 1.3  4.2  7.1 10.  12.9 15.8 18.7 21.6 24.5 27.4 30.3 33.2 36.1 39.\n",
            " 41.9 44.8 47.7 50.6 53.5 56.4 59.3 62.2 65.1 68.  70.9 73.8 76.7 79.6\n",
            " 82.5 85.4 88.3 91.2 94.1 97.  99.9]\n"
          ]
        }
      ]
    },
    {
      "cell_type": "markdown",
      "source": [
        "# **Clase 3: Introducción a Pandas y Nunpy**\n",
        "\n",
        "Bibliotecas fundamentales para la manipulación y análisis de datos en Python: Pandas y NumPy.\n",
        "\n",
        "## **NumPy**\n",
        "\n",
        "**NumPy** (Numerical Python) es una biblioteca que proporciona soporte para crear y manipular matrices grandes y multidimensionales, junto con una colección de funciones matemáticas para operar con estas matrices de manera eficiente.\n",
        "\n",
        "###**Características principales de NumPy:**\n",
        "\n",
        "Arrays multidimensionales: NumPy proporciona una estructura de datos llamada ndarray, que permite manejar matrices de cualquier dimensión.\n",
        "Funciones matemáticas: Incluye funciones para operaciones algebraicas, estadísticas y lógicas.\n",
        "Interoperabilidad: Funciona bien con otras bibliotecas como SciPy y Matplotlib.\n",
        "\n",
        "##**Pandas**\n",
        "\n",
        "Pandas es una biblioteca que proporciona estructuras de datos y herramientas de análisis de datos flexibles y eficientes. Es especialmente útil para datos tabulares, como los que se encuentran en hojas de cálculo o bases de datos.\n",
        "\n",
        "###**Características principales de Pandas:**\n",
        "\n",
        "Series: Estructura unidimensional similar a una lista o un array de NumPy.\n",
        "DataFrame: Estructura bidimensional similar a una tabla en una base de datos o una hoja de cálculo de Excel.\n",
        "Funciones de E/S: Herramientas para leer y escribir datos en diversos formatos (CSV, Excel, SQL, etc.).\n",
        "Manipulación de datos: Funciones para filtrar, agrupar, pivotar, fusionar, etc."
      ],
      "metadata": {
        "id": "4rbzUFnIejVZ"
      }
    },
    {
      "cell_type": "markdown",
      "source": [
        "**ARRAY MULTIDIMENCIÓN**"
      ],
      "metadata": {
        "id": "E2-XinbZcaJx"
      }
    },
    {
      "cell_type": "markdown",
      "source": [
        "**EJEMPLOS BÁSICOS DE COMO USAR NUMPY.**"
      ],
      "metadata": {
        "id": "9dle8f2CTiI4"
      }
    },
    {
      "cell_type": "code",
      "source": [
        "# Crea un array unidimensional\n",
        "array_1d = np.array([1, 2, 3, 4, 5])\n",
        "print(\"Array unidimensional:\", array_1d)"
      ],
      "metadata": {
        "colab": {
          "base_uri": "https://localhost:8080/"
        },
        "id": "9G3mbXdGTihC",
        "outputId": "43ca906d-a9de-4e56-f603-2de19db96199"
      },
      "execution_count": 21,
      "outputs": [
        {
          "output_type": "stream",
          "name": "stdout",
          "text": [
            "Array unidimensional: [1 2 3 4 5]\n"
          ]
        }
      ]
    },
    {
      "cell_type": "code",
      "source": [
        "# Crea un array bidimensional\n",
        "array_2d = np.array([[1, 2, 3], [4, 5, 6]])\n",
        "print(\"Array bidimensional:\\n\", array_2d)"
      ],
      "metadata": {
        "colab": {
          "base_uri": "https://localhost:8080/"
        },
        "id": "haGAdG9wTu-t",
        "outputId": "084df6d5-6a1c-4416-e172-67fd84102add"
      },
      "execution_count": 22,
      "outputs": [
        {
          "output_type": "stream",
          "name": "stdout",
          "text": [
            "Array bidimensional:\n",
            " [[1 2 3]\n",
            " [4 5 6]]\n"
          ]
        }
      ]
    },
    {
      "cell_type": "code",
      "source": [
        "x = np.array([[0,1,2,3,4],[5,6,7,8,9]], dtype=int) #arreglo binario\n",
        "print(x)"
      ],
      "metadata": {
        "colab": {
          "base_uri": "https://localhost:8080/"
        },
        "id": "Pe5-MMbDdD-3",
        "outputId": "44953b2d-eaa5-4a33-8043-71e75ae188d9"
      },
      "execution_count": 23,
      "outputs": [
        {
          "output_type": "stream",
          "name": "stdout",
          "text": [
            "[[0 1 2 3 4]\n",
            " [5 6 7 8 9]]\n"
          ]
        }
      ]
    },
    {
      "cell_type": "code",
      "source": [
        "print(x.ndim) #dimensión"
      ],
      "metadata": {
        "colab": {
          "base_uri": "https://localhost:8080/"
        },
        "id": "tbaUJXAGjwq5",
        "outputId": "3f4f5435-037d-4c69-e87b-0bda9b87e32b"
      },
      "execution_count": 24,
      "outputs": [
        {
          "output_type": "stream",
          "name": "stdout",
          "text": [
            "2\n"
          ]
        }
      ]
    },
    {
      "cell_type": "code",
      "source": [
        "print(x.shape) #forma"
      ],
      "metadata": {
        "colab": {
          "base_uri": "https://localhost:8080/"
        },
        "id": "VAe4dQv4j2SQ",
        "outputId": "ab0ffdd5-41bf-4d9c-9617-704c96ebed01"
      },
      "execution_count": 25,
      "outputs": [
        {
          "output_type": "stream",
          "name": "stdout",
          "text": [
            "(2, 5)\n"
          ]
        }
      ]
    },
    {
      "cell_type": "code",
      "source": [
        "print(x.size) #tamaño"
      ],
      "metadata": {
        "colab": {
          "base_uri": "https://localhost:8080/"
        },
        "id": "DHo5Uyyzj75p",
        "outputId": "31d59604-36cd-4afa-88ed-d42bdf338536"
      },
      "execution_count": 26,
      "outputs": [
        {
          "output_type": "stream",
          "name": "stdout",
          "text": [
            "10\n"
          ]
        }
      ]
    },
    {
      "cell_type": "code",
      "source": [
        "print(x,type(x)) #tipo de dato del array"
      ],
      "metadata": {
        "colab": {
          "base_uri": "https://localhost:8080/"
        },
        "id": "LLsblKtpkddy",
        "outputId": "9838160e-8d55-42af-9b1e-9a98a6d892f1"
      },
      "execution_count": 27,
      "outputs": [
        {
          "output_type": "stream",
          "name": "stdout",
          "text": [
            "[[0 1 2 3 4]\n",
            " [5 6 7 8 9]] <class 'numpy.ndarray'>\n"
          ]
        }
      ]
    },
    {
      "cell_type": "code",
      "source": [
        "print(x.dtype) #tipo de dato del array"
      ],
      "metadata": {
        "colab": {
          "base_uri": "https://localhost:8080/"
        },
        "id": "tJHmd7GOknnj",
        "outputId": "29149a98-8c97-4672-fe86-7e1ca1d10620"
      },
      "execution_count": 28,
      "outputs": [
        {
          "output_type": "stream",
          "name": "stdout",
          "text": [
            "int64\n"
          ]
        }
      ]
    },
    {
      "cell_type": "markdown",
      "source": [
        "**Volviendo al arreglo bidimensional array, guardado de la forma arr_2d.**"
      ],
      "metadata": {
        "id": "CA8X362NkHr0"
      }
    },
    {
      "cell_type": "code",
      "source": [
        "arr_2d = np.array([[1, 2, 3], [4, 5, 6]]) #arreglo binimensional\n",
        "print(arr_2d)"
      ],
      "metadata": {
        "colab": {
          "base_uri": "https://localhost:8080/"
        },
        "id": "Px8yyP4udSuV",
        "outputId": "48efb79f-caea-467b-c0f9-064cf33789db"
      },
      "execution_count": 29,
      "outputs": [
        {
          "output_type": "stream",
          "name": "stdout",
          "text": [
            "[[1 2 3]\n",
            " [4 5 6]]\n"
          ]
        }
      ]
    },
    {
      "cell_type": "code",
      "source": [
        "print(arr_2d.ndim) #dimensión"
      ],
      "metadata": {
        "colab": {
          "base_uri": "https://localhost:8080/"
        },
        "id": "Ln_fH0ZAda8o",
        "outputId": "246bd85b-ddf7-427e-fc06-4939203d61f7"
      },
      "execution_count": 30,
      "outputs": [
        {
          "output_type": "stream",
          "name": "stdout",
          "text": [
            "2\n"
          ]
        }
      ]
    },
    {
      "cell_type": "code",
      "source": [
        "print(arr_2d.shape) #forma"
      ],
      "metadata": {
        "colab": {
          "base_uri": "https://localhost:8080/"
        },
        "id": "KzKSQeHZdkU5",
        "outputId": "40b365e7-b19b-4151-8dc2-7cef222d9060"
      },
      "execution_count": 31,
      "outputs": [
        {
          "output_type": "stream",
          "name": "stdout",
          "text": [
            "(2, 3)\n"
          ]
        }
      ]
    },
    {
      "cell_type": "code",
      "source": [
        "print(arr_2d.size) #tamaño"
      ],
      "metadata": {
        "colab": {
          "base_uri": "https://localhost:8080/"
        },
        "id": "ng_biI9tdpUu",
        "outputId": "d1315780-f118-4145-cc9f-b93794f15056"
      },
      "execution_count": 32,
      "outputs": [
        {
          "output_type": "stream",
          "name": "stdout",
          "text": [
            "6\n"
          ]
        }
      ]
    },
    {
      "cell_type": "code",
      "source": [
        "print(arr_2d.dtype) #tipo de dato del array"
      ],
      "metadata": {
        "colab": {
          "base_uri": "https://localhost:8080/"
        },
        "id": "myK16HERduq6",
        "outputId": "4daeb8b6-ca02-4888-adaa-addd607d9377"
      },
      "execution_count": 33,
      "outputs": [
        {
          "output_type": "stream",
          "name": "stdout",
          "text": [
            "int64\n"
          ]
        }
      ]
    },
    {
      "cell_type": "code",
      "source": [
        "# Operaciones básicas dos dimensiones\n",
        "print(\"Suma de todos los elementos:\", np.sum(array_2d))\n",
        "print(\"Media de los elementos:\", np.mean(array_2d))\n",
        "print(\"Máximo valor:\", np.max(array_2d))"
      ],
      "metadata": {
        "colab": {
          "base_uri": "https://localhost:8080/"
        },
        "id": "vPyVS2MdTy8p",
        "outputId": "f783944c-dbcd-40b3-f54e-4eee48f2255a"
      },
      "execution_count": 34,
      "outputs": [
        {
          "output_type": "stream",
          "name": "stdout",
          "text": [
            "Suma de todos los elementos: 21\n",
            "Media de los elementos: 3.5\n",
            "Máximo valor: 6\n"
          ]
        }
      ]
    },
    {
      "cell_type": "code",
      "source": [
        "np.zeros(5, dtype=int) #arreglos de ceros"
      ],
      "metadata": {
        "colab": {
          "base_uri": "https://localhost:8080/"
        },
        "id": "8ls8QigjgO_O",
        "outputId": "3fa39c0f-72e4-4f8c-a450-8018dd475841"
      },
      "execution_count": 35,
      "outputs": [
        {
          "output_type": "execute_result",
          "data": {
            "text/plain": [
              "array([0, 0, 0, 0, 0])"
            ]
          },
          "metadata": {},
          "execution_count": 35
        }
      ]
    },
    {
      "cell_type": "code",
      "source": [
        "np.ones(5, dtype=int) #arreglos de unos"
      ],
      "metadata": {
        "colab": {
          "base_uri": "https://localhost:8080/"
        },
        "id": "MQ_P1vcpgvOf",
        "outputId": "46f8d5c4-2f3d-4121-ab00-2810d5f10867"
      },
      "execution_count": 36,
      "outputs": [
        {
          "output_type": "execute_result",
          "data": {
            "text/plain": [
              "array([1, 1, 1, 1, 1])"
            ]
          },
          "metadata": {},
          "execution_count": 36
        }
      ]
    },
    {
      "cell_type": "code",
      "source": [
        "np.ones(5, dtype=float) #arreglos de unos"
      ],
      "metadata": {
        "colab": {
          "base_uri": "https://localhost:8080/"
        },
        "id": "jBUVkjOFlhyu",
        "outputId": "a8321f20-eb96-4070-9d0a-48a42f76706d"
      },
      "execution_count": 37,
      "outputs": [
        {
          "output_type": "execute_result",
          "data": {
            "text/plain": [
              "array([1., 1., 1., 1., 1.])"
            ]
          },
          "metadata": {},
          "execution_count": 37
        }
      ]
    },
    {
      "cell_type": "code",
      "source": [
        "np.ones(5, dtype=bool)"
      ],
      "metadata": {
        "colab": {
          "base_uri": "https://localhost:8080/"
        },
        "id": "4tuy3BuulvHo",
        "outputId": "10c30a6f-1e31-490d-f390-d2e4950ad9c0"
      },
      "execution_count": 38,
      "outputs": [
        {
          "output_type": "execute_result",
          "data": {
            "text/plain": [
              "array([ True,  True,  True,  True,  True])"
            ]
          },
          "metadata": {},
          "execution_count": 38
        }
      ]
    },
    {
      "cell_type": "code",
      "source": [
        "np.ones(5, dtype = None) #arreglos de none"
      ],
      "metadata": {
        "colab": {
          "base_uri": "https://localhost:8080/"
        },
        "id": "MX4AaN2jl8zr",
        "outputId": "8efcb68e-3f17-4d4f-dcb1-832c90eb4bac"
      },
      "execution_count": 39,
      "outputs": [
        {
          "output_type": "execute_result",
          "data": {
            "text/plain": [
              "array([1., 1., 1., 1., 1.])"
            ]
          },
          "metadata": {},
          "execution_count": 39
        }
      ]
    },
    {
      "cell_type": "code",
      "source": [
        "np.ones((3,4), dtype=int) #arreglos de unos"
      ],
      "metadata": {
        "colab": {
          "base_uri": "https://localhost:8080/"
        },
        "id": "Zaeiwhzcg51W",
        "outputId": "21f5e038-c2b4-4f74-865e-5e7e7edd8aae"
      },
      "execution_count": 40,
      "outputs": [
        {
          "output_type": "execute_result",
          "data": {
            "text/plain": [
              "array([[1, 1, 1, 1],\n",
              "       [1, 1, 1, 1],\n",
              "       [1, 1, 1, 1]])"
            ]
          },
          "metadata": {},
          "execution_count": 40
        }
      ]
    },
    {
      "cell_type": "code",
      "source": [
        "np.ones((3,4), dtype=float) #arreglos de unos"
      ],
      "metadata": {
        "colab": {
          "base_uri": "https://localhost:8080/"
        },
        "id": "MaSOZz5ZlPAb",
        "outputId": "b409833b-471f-425f-a8a1-e673a9e4e279"
      },
      "execution_count": 41,
      "outputs": [
        {
          "output_type": "execute_result",
          "data": {
            "text/plain": [
              "array([[1., 1., 1., 1.],\n",
              "       [1., 1., 1., 1.],\n",
              "       [1., 1., 1., 1.]])"
            ]
          },
          "metadata": {},
          "execution_count": 41
        }
      ]
    },
    {
      "cell_type": "code",
      "source": [
        "arr_2d_zeros = np.zeros((3, 4)) #arreglo de ceros\n",
        "print(arr_2d_zeros)"
      ],
      "metadata": {
        "colab": {
          "base_uri": "https://localhost:8080/"
        },
        "id": "fAhqQIDtdXP-",
        "outputId": "0e45816c-67fb-4b80-fd58-62aab5931d71"
      },
      "execution_count": 42,
      "outputs": [
        {
          "output_type": "stream",
          "name": "stdout",
          "text": [
            "[[0. 0. 0. 0.]\n",
            " [0. 0. 0. 0.]\n",
            " [0. 0. 0. 0.]]\n"
          ]
        }
      ]
    },
    {
      "cell_type": "code",
      "source": [
        "arr_2d_zeros_int = np.zeros((3, 4), dtype=int) #arreglo de ceros enteros\n",
        "print(arr_2d_zeros_int)"
      ],
      "metadata": {
        "colab": {
          "base_uri": "https://localhost:8080/"
        },
        "id": "SK16NoAidYiR",
        "outputId": "ccd1161c-002c-47f8-eb23-cd35233813a1"
      },
      "execution_count": 43,
      "outputs": [
        {
          "output_type": "stream",
          "name": "stdout",
          "text": [
            "[[0 0 0 0]\n",
            " [0 0 0 0]\n",
            " [0 0 0 0]]\n"
          ]
        }
      ]
    },
    {
      "cell_type": "markdown",
      "source": [],
      "metadata": {
        "id": "jWTSC2OMm5zQ"
      }
    },
    {
      "cell_type": "code",
      "source": [
        "print(len(arr_2d_zeros))\n",
        "print(len(arr_2d_zeros_int))\n",
        "print(len(arr_2d))\n",
        "\n",
        "print(len(array_1d))\n",
        "\n",
        "print(len(x))\n",
        "\n",
        "print(len(arr5))\n",
        "print(arr5.size)"
      ],
      "metadata": {
        "colab": {
          "base_uri": "https://localhost:8080/"
        },
        "id": "LzHv2BzEl1iR",
        "outputId": "50d7fb33-1f53-4156-891e-5a46f0b55de8"
      },
      "execution_count": 44,
      "outputs": [
        {
          "output_type": "stream",
          "name": "stdout",
          "text": [
            "3\n",
            "3\n",
            "2\n",
            "5\n",
            "2\n",
            "5\n",
            "5\n"
          ]
        }
      ]
    },
    {
      "cell_type": "code",
      "source": [
        "print(type(1))"
      ],
      "metadata": {
        "colab": {
          "base_uri": "https://localhost:8080/"
        },
        "id": "9dri9bRIobgp",
        "outputId": "415010bc-9f60-4a81-92d8-ddf9e28e2896"
      },
      "execution_count": 45,
      "outputs": [
        {
          "output_type": "stream",
          "name": "stdout",
          "text": [
            "<class 'int'>\n"
          ]
        }
      ]
    },
    {
      "cell_type": "code",
      "source": [
        "print(type(1.0))"
      ],
      "metadata": {
        "colab": {
          "base_uri": "https://localhost:8080/"
        },
        "id": "NT4OXqEWol50",
        "outputId": "40f62d26-8ff6-471c-f2f3-c67a2053764f"
      },
      "execution_count": 46,
      "outputs": [
        {
          "output_type": "stream",
          "name": "stdout",
          "text": [
            "<class 'float'>\n"
          ]
        }
      ]
    },
    {
      "cell_type": "code",
      "source": [
        "numero = input(\"Ingrese un numero: \")\n",
        "print(numero)\n",
        "print(type(numero))\n",
        "print(type(int(numero)))"
      ],
      "metadata": {
        "colab": {
          "base_uri": "https://localhost:8080/",
          "height": 224
        },
        "id": "ih6rvWICos8I",
        "outputId": "b3e01b9a-e834-4783-a939-1f0a1a04b086"
      },
      "execution_count": 47,
      "outputs": [
        {
          "output_type": "stream",
          "name": "stdout",
          "text": [
            "Ingrese un numero: \n",
            "\n",
            "<class 'str'>\n"
          ]
        },
        {
          "output_type": "error",
          "ename": "ValueError",
          "evalue": "invalid literal for int() with base 10: ''",
          "traceback": [
            "\u001b[0;31m---------------------------------------------------------------------------\u001b[0m",
            "\u001b[0;31mValueError\u001b[0m                                Traceback (most recent call last)",
            "\u001b[0;32m<ipython-input-47-d2f699c6a164>\u001b[0m in \u001b[0;36m<cell line: 4>\u001b[0;34m()\u001b[0m\n\u001b[1;32m      2\u001b[0m \u001b[0mprint\u001b[0m\u001b[0;34m(\u001b[0m\u001b[0mnumero\u001b[0m\u001b[0;34m)\u001b[0m\u001b[0;34m\u001b[0m\u001b[0;34m\u001b[0m\u001b[0m\n\u001b[1;32m      3\u001b[0m \u001b[0mprint\u001b[0m\u001b[0;34m(\u001b[0m\u001b[0mtype\u001b[0m\u001b[0;34m(\u001b[0m\u001b[0mnumero\u001b[0m\u001b[0;34m)\u001b[0m\u001b[0;34m)\u001b[0m\u001b[0;34m\u001b[0m\u001b[0;34m\u001b[0m\u001b[0m\n\u001b[0;32m----> 4\u001b[0;31m \u001b[0mprint\u001b[0m\u001b[0;34m(\u001b[0m\u001b[0mtype\u001b[0m\u001b[0;34m(\u001b[0m\u001b[0mint\u001b[0m\u001b[0;34m(\u001b[0m\u001b[0mnumero\u001b[0m\u001b[0;34m)\u001b[0m\u001b[0;34m)\u001b[0m\u001b[0;34m)\u001b[0m\u001b[0;34m\u001b[0m\u001b[0;34m\u001b[0m\u001b[0m\n\u001b[0m",
            "\u001b[0;31mValueError\u001b[0m: invalid literal for int() with base 10: ''"
          ]
        }
      ]
    },
    {
      "cell_type": "code",
      "source": [
        "var1 = np.ones(5, dtype=int) #arreglos de unos"
      ],
      "metadata": {
        "id": "6Ko-rcyDW1ni"
      },
      "execution_count": null,
      "outputs": []
    },
    {
      "cell_type": "code",
      "source": [
        "print(type(var1)) #tipo de dato del array"
      ],
      "metadata": {
        "id": "9VX7_SShXFbO"
      },
      "execution_count": null,
      "outputs": []
    },
    {
      "cell_type": "code",
      "source": [
        "var2 = (1,2,3,4,5) #tupla\n",
        "print(type(var2))"
      ],
      "metadata": {
        "id": "MAIIS7c3XVb8"
      },
      "execution_count": null,
      "outputs": []
    },
    {
      "cell_type": "markdown",
      "source": [
        "**Podemos darnos cuenta de que aun es una tupla dado que no cambio su situación, su función al aplicar el numpy. Por lo tanto se puede nodificar de la siguiente forma:**"
      ],
      "metadata": {
        "id": "gQneFlDKX8yK"
      }
    },
    {
      "cell_type": "code",
      "source": [
        "var2 = np.array(var2)\n",
        "print(type(var2))"
      ],
      "metadata": {
        "colab": {
          "base_uri": "https://localhost:8080/",
          "height": 156
        },
        "id": "5VYMS_LFYLOy",
        "outputId": "44ce505f-50b6-4f81-e6c8-f1eecaf3d225"
      },
      "execution_count": 48,
      "outputs": [
        {
          "output_type": "error",
          "ename": "NameError",
          "evalue": "name 'var2' is not defined",
          "traceback": [
            "\u001b[0;31m---------------------------------------------------------------------------\u001b[0m",
            "\u001b[0;31mNameError\u001b[0m                                 Traceback (most recent call last)",
            "\u001b[0;32m<ipython-input-48-3dd81035367e>\u001b[0m in \u001b[0;36m<cell line: 1>\u001b[0;34m()\u001b[0m\n\u001b[0;32m----> 1\u001b[0;31m \u001b[0mvar2\u001b[0m \u001b[0;34m=\u001b[0m \u001b[0mnp\u001b[0m\u001b[0;34m.\u001b[0m\u001b[0marray\u001b[0m\u001b[0;34m(\u001b[0m\u001b[0mvar2\u001b[0m\u001b[0;34m)\u001b[0m\u001b[0;34m\u001b[0m\u001b[0;34m\u001b[0m\u001b[0m\n\u001b[0m\u001b[1;32m      2\u001b[0m \u001b[0mprint\u001b[0m\u001b[0;34m(\u001b[0m\u001b[0mtype\u001b[0m\u001b[0;34m(\u001b[0m\u001b[0mvar2\u001b[0m\u001b[0;34m)\u001b[0m\u001b[0;34m)\u001b[0m\u001b[0;34m\u001b[0m\u001b[0;34m\u001b[0m\u001b[0m\n",
            "\u001b[0;31mNameError\u001b[0m: name 'var2' is not defined"
          ]
        }
      ]
    },
    {
      "cell_type": "code",
      "source": [
        "var3 = (1,10)\n",
        "print(type(var3))\n",
        "print(type(np.array(var3)))"
      ],
      "metadata": {
        "colab": {
          "base_uri": "https://localhost:8080/"
        },
        "id": "9hClWtQBbYEw",
        "outputId": "cc30219a-a5b4-4631-87e5-07135cf4fbe3"
      },
      "execution_count": 49,
      "outputs": [
        {
          "output_type": "stream",
          "name": "stdout",
          "text": [
            "<class 'tuple'>\n",
            "<class 'numpy.ndarray'>\n"
          ]
        }
      ]
    },
    {
      "cell_type": "code",
      "source": [
        "y1 = np.reshape(np.array(var3),(1,2)) #reshape\n",
        "print(y1)"
      ],
      "metadata": {
        "colab": {
          "base_uri": "https://localhost:8080/"
        },
        "id": "pPR0nQ0Nbgxg",
        "outputId": "46fb2d03-0f9b-4dba-98da-7db13b139668"
      },
      "execution_count": 75,
      "outputs": [
        {
          "output_type": "stream",
          "name": "stdout",
          "text": [
            "[[ 1 10]]\n"
          ]
        }
      ]
    },
    {
      "cell_type": "code",
      "source": [
        "y2 = np.reshape(np.arange(2*3*4),(2,3,4)) #reshape\n",
        "print(y2)"
      ],
      "metadata": {
        "colab": {
          "base_uri": "https://localhost:8080/"
        },
        "id": "I9K-duZqcL0o",
        "outputId": "7702c6da-78ca-4d01-e7af-7e792cb58992"
      },
      "execution_count": 51,
      "outputs": [
        {
          "output_type": "stream",
          "name": "stdout",
          "text": [
            "[[[ 0  1  2  3]\n",
            "  [ 4  5  6  7]\n",
            "  [ 8  9 10 11]]\n",
            "\n",
            " [[12 13 14 15]\n",
            "  [16 17 18 19]\n",
            "  [20 21 22 23]]]\n"
          ]
        }
      ]
    },
    {
      "cell_type": "code",
      "source": [
        "y1.strides #strides}"
      ],
      "metadata": {
        "colab": {
          "base_uri": "https://localhost:8080/"
        },
        "id": "tl7SnH_s5Kcu",
        "outputId": "f28fc45b-c99f-4333-eef9-d90e09f9c9ef"
      },
      "execution_count": 77,
      "outputs": [
        {
          "output_type": "execute_result",
          "data": {
            "text/plain": [
              "(16, 8)"
            ]
          },
          "metadata": {},
          "execution_count": 77
        }
      ]
    },
    {
      "cell_type": "code",
      "source": [
        "y2.strides #strides"
      ],
      "metadata": {
        "colab": {
          "base_uri": "https://localhost:8080/"
        },
        "id": "uK11GTPcca3X",
        "outputId": "de194ed9-98a4-419a-8ee1-43fed242669a"
      },
      "execution_count": 78,
      "outputs": [
        {
          "output_type": "execute_result",
          "data": {
            "text/plain": [
              "(96, 32, 8)"
            ]
          },
          "metadata": {},
          "execution_count": 78
        }
      ]
    },
    {
      "cell_type": "code",
      "source": [
        "x = np.array([[0,1,2,3,4],[5,6,7,8,9]], dtype=np.int32) #arreglo binario\n",
        "print(x)"
      ],
      "metadata": {
        "colab": {
          "base_uri": "https://localhost:8080/"
        },
        "id": "-7PX4-9NcyUV",
        "outputId": "618ef8a9-d98d-4cbe-af2f-5047fe47ac05"
      },
      "execution_count": 53,
      "outputs": [
        {
          "output_type": "stream",
          "name": "stdout",
          "text": [
            "[[0 1 2 3 4]\n",
            " [5 6 7 8 9]]\n"
          ]
        }
      ]
    },
    {
      "cell_type": "code",
      "source": [
        "x.strides #strides"
      ],
      "metadata": {
        "colab": {
          "base_uri": "https://localhost:8080/"
        },
        "id": "hm6en0nodSXU",
        "outputId": "dc903232-c61c-4081-de9d-565d1395f649"
      },
      "execution_count": 54,
      "outputs": [
        {
          "output_type": "execute_result",
          "data": {
            "text/plain": [
              "(20, 4)"
            ]
          },
          "metadata": {},
          "execution_count": 54
        }
      ]
    },
    {
      "cell_type": "markdown",
      "source": [
        "**NUMEROS ALEATORIOS.**\n",
        "\n",
        "Numpy proporciona funciones para generar numero aleatrorios."
      ],
      "metadata": {
        "id": "zMl8E6Owdksh"
      }
    },
    {
      "cell_type": "code",
      "source": [
        "# Generar datos que siguen una distribución normal estándar (media 0, desviación estándar 1)\n",
        "random_data = np.random.randn(5)\n",
        "print(\"Datos aleatorios:\", random_data)"
      ],
      "metadata": {
        "colab": {
          "base_uri": "https://localhost:8080/"
        },
        "id": "uPdNiZ0Fdj8o",
        "outputId": "39f49fa0-aaf0-4f02-c679-87cde6aa31a3"
      },
      "execution_count": 55,
      "outputs": [
        {
          "output_type": "stream",
          "name": "stdout",
          "text": [
            "Datos aleatorios: [ 1.28940249  1.28323406  0.10854211  0.71755257 -1.06494266]\n"
          ]
        }
      ]
    },
    {
      "cell_type": "code",
      "source": [
        "# Crear un array 2D de 100×100 con números aleatorios\n",
        "data2 = np.random.randn(100, 100)\n",
        "print(\"Datos aleatorios:\\n\", data2)\n",
        "print( \"Forma del array 2D:\", data2.shape)"
      ],
      "metadata": {
        "colab": {
          "base_uri": "https://localhost:8080/"
        },
        "id": "vrWsEvfgdkL7",
        "outputId": "f6b805c4-8454-4258-94c4-83dd30c2a049"
      },
      "execution_count": 56,
      "outputs": [
        {
          "output_type": "stream",
          "name": "stdout",
          "text": [
            "Datos aleatorios:\n",
            " [[ 1.18222252 -0.89142878  0.24703059 ... -0.88710671  1.97592941\n",
            "   0.11587712]\n",
            " [-0.70820119 -0.04890105  0.39978229 ...  0.62404631 -0.74918836\n",
            "  -0.32626245]\n",
            " [-0.74148098  1.10653658  0.14642222 ...  0.46012177 -0.91720862\n",
            "   0.09740151]\n",
            " ...\n",
            " [-0.95505541  2.21353378 -1.16019867 ...  1.72090304 -0.68618942\n",
            "   0.3079041 ]\n",
            " [-0.8027211  -0.06557867 -0.35098422 ... -0.39757596 -1.20374844\n",
            "   0.57886303]\n",
            " [-1.0159707   0.59052698  0.88612126 ... -0.50982913 -1.63960616\n",
            "  -0.95396434]]\n",
            "Forma del array 2D: (100, 100)\n"
          ]
        }
      ]
    },
    {
      "cell_type": "markdown",
      "source": [
        "###**COMPARACIÓN DE RENDIMIENTO ENTRE LISTAS Y ARRAYS.**\n",
        "\n",
        "Se comparará el rendimiento de una lista de Python y un array de Numpy al almacenar y operar con un millón de enteros."
      ],
      "metadata": {
        "id": "aT1uq3zmf4si"
      }
    },
    {
      "cell_type": "code",
      "source": [
        "import time"
      ],
      "metadata": {
        "id": "weanEkMrf4et"
      },
      "execution_count": 57,
      "outputs": []
    },
    {
      "cell_type": "code",
      "source": [
        "#Crear un array Numpy de 1 millón de elementos\n",
        "np_array = np.arange(1000000)"
      ],
      "metadata": {
        "id": "Uj67OzTqgkqE"
      },
      "execution_count": 58,
      "outputs": []
    },
    {
      "cell_type": "code",
      "source": [
        "#Crear una lista de Python de 1 millón de elementos\n",
        "python_list = list(range(1000000))"
      ],
      "metadata": {
        "id": "nO13NP9Pg9t6"
      },
      "execution_count": 59,
      "outputs": []
    },
    {
      "cell_type": "code",
      "source": [
        "#Función para medir el tiempo de ejecución\n",
        "def measure_time(func, *args, **kwargs):\n",
        "    start = time.time()\n",
        "    result = func(*args, **kwargs)\n",
        "    end = time.time()\n",
        "    return result, end - start"
      ],
      "metadata": {
        "id": "9ATSRb49hSSY"
      },
      "execution_count": 60,
      "outputs": []
    },
    {
      "cell_type": "code",
      "source": [
        "#Función para medir el tiempo de ejecución\n",
        "def time_execution(func):\n",
        "    start = time.time()\n",
        "    func()\n",
        "    end = time.time()\n",
        "    return end - start"
      ],
      "metadata": {
        "id": "2EEoSomrhthI"
      },
      "execution_count": 61,
      "outputs": []
    },
    {
      "cell_type": "code",
      "source": [
        "#Operación con Numpy\n",
        "def numpy_operation():\n",
        "  return np_array * 2\n",
        "\n",
        "#Medir tiempo para Numpy\n",
        "numpy_time = time_execution(numpy_operation)\n",
        "print(f\"Tiempo de ejecución para Numpy:{numpy_time:.5f} segundos\")"
      ],
      "metadata": {
        "colab": {
          "base_uri": "https://localhost:8080/"
        },
        "id": "hn8uTRIpiLcT",
        "outputId": "9a6e5edc-60ed-4311-d9ed-6b6fc2bd02bc"
      },
      "execution_count": 62,
      "outputs": [
        {
          "output_type": "stream",
          "name": "stdout",
          "text": [
            "Tiempo de ejecución para Numpy:0.00469 segundos\n"
          ]
        }
      ]
    },
    {
      "cell_type": "code",
      "source": [
        "#Operación con lista de Python\n",
        "def python_list_operation():\n",
        "  return [x*2 for x in python_list]\n",
        "\n",
        "#Medir tiempo para lista de Python\n",
        "python_time = time_execution(python_list_operation)\n",
        "print(f\"Tiempo de ejecución para lista de Python:{python_time:.5f} segundos\")"
      ],
      "metadata": {
        "colab": {
          "base_uri": "https://localhost:8080/"
        },
        "id": "v4YRtL-4jTVU",
        "outputId": "82c6b035-4970-4074-f1cc-e4694abb304a"
      },
      "execution_count": 63,
      "outputs": [
        {
          "output_type": "stream",
          "name": "stdout",
          "text": [
            "Tiempo de ejecución para lista de Python:0.11202 segundos\n"
          ]
        }
      ]
    },
    {
      "cell_type": "code",
      "source": [
        "# Calcular la diferencia de velocidad\n",
        "speed_difference = python_time / numpy_time\n",
        "print(f\"NumPy es aproximadamente {speed_difference:.2f} veces más rápido\")"
      ],
      "metadata": {
        "colab": {
          "base_uri": "https://localhost:8080/"
        },
        "id": "d7H7ddb_lT7r",
        "outputId": "4de2e820-8032-49e8-dbb0-bfff8cf27cc6"
      },
      "execution_count": 64,
      "outputs": [
        {
          "output_type": "stream",
          "name": "stdout",
          "text": [
            "NumPy es aproximadamente 23.87 veces más rápido\n"
          ]
        }
      ]
    },
    {
      "cell_type": "markdown",
      "source": [
        "#**Operaciones Avanzadas con NumPy**\n",
        "\n",
        "###Reshaping (Cambio de Forma) El reshaping permite cambiar la forma de un array sin modificar sus datos.\n"
      ],
      "metadata": {
        "id": "-Ht-aLCNllzf"
      }
    },
    {
      "cell_type": "code",
      "source": [
        "# Crear un array unidimensional\n",
        "ar = np.arange(12)\n",
        "print(\"Array original:\", ar)"
      ],
      "metadata": {
        "colab": {
          "base_uri": "https://localhost:8080/"
        },
        "id": "OZB1OGPtlWvK",
        "outputId": "93f9919b-b48a-402b-ca97-d2d83b198246"
      },
      "execution_count": 65,
      "outputs": [
        {
          "output_type": "stream",
          "name": "stdout",
          "text": [
            "Array original: [ 0  1  2  3  4  5  6  7  8  9 10 11]\n"
          ]
        }
      ]
    },
    {
      "cell_type": "code",
      "source": [
        "# Reshape a 3x4\n",
        "reshaped_ar = ar.reshape(3,4)\n",
        "print(\"Array con nueva forma (3x4):\")\n",
        "print(reshaped_ar)"
      ],
      "metadata": {
        "colab": {
          "base_uri": "https://localhost:8080/"
        },
        "id": "0OL4Ld-dlzAw",
        "outputId": "9c17aef5-eb32-4106-d3d4-235a3f22e719"
      },
      "execution_count": 79,
      "outputs": [
        {
          "output_type": "stream",
          "name": "stdout",
          "text": [
            "Array con nueva forma (3x4):\n",
            "[[ 0  1  2  3]\n",
            " [ 4  5  6  7]\n",
            " [ 8  9 10 11]]\n"
          ]
        }
      ]
    },
    {
      "cell_type": "code",
      "source": [
        "# Reshape a 3x4\n",
        "reshaped_ar = np.reshape(np.arange(12), (3,4))\n",
        "print(\"Array con nueva forma (3x4):\")\n",
        "print(reshaped_ar)"
      ],
      "metadata": {
        "colab": {
          "base_uri": "https://localhost:8080/"
        },
        "id": "pAxAoTO0tLeB",
        "outputId": "365e5ab0-de89-430a-9e3f-995ff4a16fe7"
      },
      "execution_count": 81,
      "outputs": [
        {
          "output_type": "stream",
          "name": "stdout",
          "text": [
            "Array con nueva forma (3x4):\n",
            "[[ 0  1  2  3]\n",
            " [ 4  5  6  7]\n",
            " [ 8  9 10 11]]\n"
          ]
        }
      ]
    },
    {
      "cell_type": "code",
      "source": [
        "# Cambiar la forma directamente\n",
        "ar.shape = (2, 6)\n",
        "print(\"Array con forma cambiada (2x6):\")\n",
        "print(ar)"
      ],
      "metadata": {
        "colab": {
          "base_uri": "https://localhost:8080/"
        },
        "id": "OBusts9Fl09k",
        "outputId": "7054c988-7531-48c1-eee2-0988918d2aa0"
      },
      "execution_count": 82,
      "outputs": [
        {
          "output_type": "stream",
          "name": "stdout",
          "text": [
            "Array con forma cambiada (2x6):\n",
            "[[ 0  1  2  3  4  5]\n",
            " [ 6  7  8  9 10 11]]\n"
          ]
        }
      ]
    },
    {
      "cell_type": "markdown",
      "source": [
        "##**Explicación de la Diferencia de Rendimiento**\n",
        "\n",
        "**Vectorización:** NumPy utiliza operaciones vectorizadas, que son mucho más rápidas que los bucles en Python puro.\n",
        "\n",
        "**Implementación en C:** Las operaciones de NumPy están implementadas en C, lo que las hace más rápidas que el código Python interpretado. Optimización de memoria: NumPy utiliza arrays contiguos en memoria, lo que mejora la eficiencia de acceso a los datos.\n",
        "\n",
        "**Tipos de datos homogéneos:** Los arrays de NumPy contienen elementos del mismo tipo, lo que permite optimizaciones adicionales.\n",
        "\n",
        "Operaciones Adicionales con Arrays de NumPy Agregar Elementos a Arrays de NumPy"
      ],
      "metadata": {
        "id": "ftX9JDtRugae"
      }
    },
    {
      "cell_type": "code",
      "source": [
        "# Agregar un valor a un array unidimensional\n",
        "arr_e = np.array([1, 2, 3, 4, 5])\n",
        "new_arr = np.append(arr_e, 6)\n",
        "print(\"Array con nuevo elemento:\", new_arr)\n",
        "\n",
        "# Agregar elementos a un array bidimensional\n",
        "arr_2d = np.array([[1, 2, 3], [4, 5, 6]])\n",
        "new_row = np.array([[7, 8, 9]])\n",
        "new_arr_2d = np.append(arr_2d, new_row, axis=0)\n",
        "print(\"Array 2D con nueva fila:\")\n",
        "print(new_arr_2d)"
      ],
      "metadata": {
        "colab": {
          "base_uri": "https://localhost:8080/"
        },
        "id": "Ff2YeQ0Tutbb",
        "outputId": "6effbbf3-7845-48d8-aa34-3ce2381e3343"
      },
      "execution_count": 83,
      "outputs": [
        {
          "output_type": "stream",
          "name": "stdout",
          "text": [
            "Array con nuevo elemento: [1 2 3 4 5 6]\n",
            "Array 2D con nueva fila:\n",
            "[[1 2 3]\n",
            " [4 5 6]\n",
            " [7 8 9]]\n"
          ]
        }
      ]
    },
    {
      "cell_type": "markdown",
      "source": [
        "###**Eliminar Elementos de Arrays de NumPy**"
      ],
      "metadata": {
        "id": "OaWl-trPu9tb"
      }
    },
    {
      "cell_type": "code",
      "source": [
        "# Eliminar un elemento de un array unidimensional\n",
        "arr = np.array([1, 2, 3, 4, 5])\n",
        "new_arr = np.delete(arr, 2)  # Elimina el elemento en el índice 2\n",
        "print(\"Array con elemento eliminado:\", new_arr)\n",
        "\n",
        "# Eliminar una fila de un array bidimensional\n",
        "arr_2d = np.array([[1, 2, 3], [4, 5, 6], [7, 8, 9]])\n",
        "new_arr_2d = np.delete(arr_2d, 1, axis=0)  # Elimina la segunda fila\n",
        "print(\"Array 2D con fila eliminada:\")\n",
        "print(new_arr_2d)"
      ],
      "metadata": {
        "colab": {
          "base_uri": "https://localhost:8080/"
        },
        "id": "y8zP20pPu3O3",
        "outputId": "c60570cd-8c86-4595-f9cd-f943fd2d394d"
      },
      "execution_count": 84,
      "outputs": [
        {
          "output_type": "stream",
          "name": "stdout",
          "text": [
            "Array con elemento eliminado: [1 2 4 5]\n",
            "Array 2D con fila eliminada:\n",
            "[[1 2 3]\n",
            " [7 8 9]]\n"
          ]
        }
      ]
    },
    {
      "cell_type": "markdown",
      "source": [
        "#**TAREA 2. NUMPY**\n",
        "\n",
        "```\n",
        "# Esto tiene formato de código\n",
        "```\n",
        "\n",
        "**Hacer ejemplos similares al título de Reshaping y números aleatorios explicando los resultados en un comentario o en markdown. Puede ser un ejemplo muy parecido, con otros números, pero con explicaciones propias de usted.\n",
        "\n",
        "Enviar a mi correo**\n",
        "\n"
      ],
      "metadata": {
        "id": "dzd2ku5yT3eu"
      }
    },
    {
      "cell_type": "markdown",
      "source": [
        "**PARTE A**"
      ],
      "metadata": {
        "id": "9PHOWWTbnWj9"
      }
    },
    {
      "cell_type": "code",
      "source": [
        "#CREAR UN ARRAY UNIDIMENSIONAL.\n",
        "\n",
        "arr0 = np.arange(11)\n",
        "print(\"Array original\", arr0)\n",
        "\n",
        "arr_a = np.arange(0,11,1)\n",
        "print(\"Array original\", arr_a)"
      ],
      "metadata": {
        "colab": {
          "base_uri": "https://localhost:8080/"
        },
        "id": "imX_1hnCaZ3K",
        "outputId": "ec6745d4-9c41-4271-da74-d32835b5eba4"
      },
      "execution_count": 85,
      "outputs": [
        {
          "output_type": "stream",
          "name": "stdout",
          "text": [
            "Array original [ 0  1  2  3  4  5  6  7  8  9 10]\n",
            "Array original [ 0  1  2  3  4  5  6  7  8  9 10]\n"
          ]
        }
      ]
    },
    {
      "cell_type": "markdown",
      "source": [
        "**Aparecen los numero hasta el 10 porque al escribir el 11 es el limite o stop de la función. Los numeroS son consecutivos porque no cuenta con saltos. Si contara con saltos seria de la siguiente forma:**"
      ],
      "metadata": {
        "id": "xy6J5VoOULl8"
      }
    },
    {
      "cell_type": "code",
      "source": [
        "arr_b = np.arange(0,11,2)\n",
        "print(\"Array original\", arr_b)"
      ],
      "metadata": {
        "colab": {
          "base_uri": "https://localhost:8080/"
        },
        "id": "9ZOXvr9iUcqc",
        "outputId": "2064426f-cac3-417a-b8fa-4b0acce87242"
      },
      "execution_count": 86,
      "outputs": [
        {
          "output_type": "stream",
          "name": "stdout",
          "text": [
            "Array original [ 0  2  4  6  8 10]\n"
          ]
        }
      ]
    },
    {
      "cell_type": "markdown",
      "source": [
        "**Donde se puede observar los saltos de dos en dos, desde el primer valor inicial, cero puesto en el parentesis, seguido por el numero penultimo y su salto.**"
      ],
      "metadata": {
        "id": "DuvfMT8YVtj2"
      }
    },
    {
      "cell_type": "markdown",
      "source": [
        "**PARTE B.**"
      ],
      "metadata": {
        "id": "2Qiae5xenSRd"
      }
    },
    {
      "cell_type": "code",
      "source": [
        "arr = np.arange(20)\n",
        "print(\"Array original\", arr)"
      ],
      "metadata": {
        "colab": {
          "base_uri": "https://localhost:8080/"
        },
        "id": "POe5G5BDc3Us",
        "outputId": "f2e2baba-3042-4472-f1c3-54d99f07bd68"
      },
      "execution_count": 87,
      "outputs": [
        {
          "output_type": "stream",
          "name": "stdout",
          "text": [
            "Array original [ 0  1  2  3  4  5  6  7  8  9 10 11 12 13 14 15 16 17 18 19]\n"
          ]
        }
      ]
    },
    {
      "cell_type": "code",
      "source": [
        "# Reshape a 3x4\n",
        "reshaped_ar = arr.reshape(5,4)\n",
        "print(\"Array con nueva forma (5x4):\")\n",
        "print(reshaped_ar)"
      ],
      "metadata": {
        "colab": {
          "base_uri": "https://localhost:8080/"
        },
        "id": "M15L78-SoRQM",
        "outputId": "b0550cc5-902c-410f-9b5f-5be98b8abc58"
      },
      "execution_count": 90,
      "outputs": [
        {
          "output_type": "stream",
          "name": "stdout",
          "text": [
            "Array con nueva forma (3x4):\n",
            "[[ 0  1  2  3]\n",
            " [ 4  5  6  7]\n",
            " [ 8  9 10 11]\n",
            " [12 13 14 15]\n",
            " [16 17 18 19]]\n"
          ]
        }
      ]
    },
    {
      "cell_type": "code",
      "source": [
        "# Cambiar la forma directamente\n",
        "arr.shape = (4,5)\n",
        "print(\"Array con forma cambiada (4x5):\")\n",
        "print(arr)"
      ],
      "metadata": {
        "colab": {
          "base_uri": "https://localhost:8080/"
        },
        "id": "w7sjsXSJdUln",
        "outputId": "1c104580-c655-40d8-a1a4-75c069f40685"
      },
      "execution_count": 92,
      "outputs": [
        {
          "output_type": "stream",
          "name": "stdout",
          "text": [
            "Array con forma cambiada (4x5):\n",
            "[[ 0  1  2  3  4]\n",
            " [ 5  6  7  8  9]\n",
            " [10 11 12 13 14]\n",
            " [15 16 17 18 19]]\n"
          ]
        }
      ]
    }
  ]
}