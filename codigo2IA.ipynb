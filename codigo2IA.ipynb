{
  "cells": [
    {
      "cell_type": "markdown",
      "metadata": {
        "id": "view-in-github",
        "colab_type": "text"
      },
      "source": [
        "<a href=\"https://colab.research.google.com/github/Fernanda-Mesa/InteligenciaArtificial_MachineLearning/blob/main/codigo2IA.ipynb\" target=\"_parent\"><img src=\"https://colab.research.google.com/assets/colab-badge.svg\" alt=\"Open In Colab\"/></a>"
      ]
    },
    {
      "cell_type": "code",
      "execution_count": null,
      "metadata": {
        "id": "hs0GXGY84IqL"
      },
      "outputs": [],
      "source": [
        "import pandas as pd"
      ]
    },
    {
      "cell_type": "code",
      "execution_count": null,
      "metadata": {
        "colab": {
          "base_uri": "https://localhost:8080/"
        },
        "id": "zz-4_rMF5M4v",
        "outputId": "d961ec19-f6bc-4893-9371-457cc79fc8c1"
      },
      "outputs": [
        {
          "name": "stdout",
          "output_type": "stream",
          "text": [
            "Collecting line\n",
            "  Downloading line-0.8.2.tar.gz (11 kB)\n",
            "  Preparing metadata (setup.py) ... \u001b[?25l\u001b[?25hdone\n",
            "Requirement already satisfied: requests in /usr/local/lib/python3.10/dist-packages (from line) (2.31.0)\n",
            "Collecting curve (from line)\n",
            "  Downloading curve-0.0.7-py3-none-any.whl (18 kB)\n",
            "Requirement already satisfied: rsa in /usr/local/lib/python3.10/dist-packages (from line) (4.9)\n",
            "Requirement already satisfied: matplotlib in /usr/local/lib/python3.10/dist-packages (from curve->line) (3.7.1)\n",
            "Requirement already satisfied: numpy in /usr/local/lib/python3.10/dist-packages (from curve->line) (1.25.2)\n",
            "Requirement already satisfied: scipy in /usr/local/lib/python3.10/dist-packages (from curve->line) (1.11.4)\n",
            "Requirement already satisfied: charset-normalizer<4,>=2 in /usr/local/lib/python3.10/dist-packages (from requests->line) (3.3.2)\n",
            "Requirement already satisfied: idna<4,>=2.5 in /usr/local/lib/python3.10/dist-packages (from requests->line) (3.7)\n",
            "Requirement already satisfied: urllib3<3,>=1.21.1 in /usr/local/lib/python3.10/dist-packages (from requests->line) (2.0.7)\n",
            "Requirement already satisfied: certifi>=2017.4.17 in /usr/local/lib/python3.10/dist-packages (from requests->line) (2024.6.2)\n",
            "Requirement already satisfied: pyasn1>=0.1.3 in /usr/local/lib/python3.10/dist-packages (from rsa->line) (0.6.0)\n",
            "Requirement already satisfied: contourpy>=1.0.1 in /usr/local/lib/python3.10/dist-packages (from matplotlib->curve->line) (1.2.1)\n",
            "Requirement already satisfied: cycler>=0.10 in /usr/local/lib/python3.10/dist-packages (from matplotlib->curve->line) (0.12.1)\n",
            "Requirement already satisfied: fonttools>=4.22.0 in /usr/local/lib/python3.10/dist-packages (from matplotlib->curve->line) (4.53.0)\n",
            "Requirement already satisfied: kiwisolver>=1.0.1 in /usr/local/lib/python3.10/dist-packages (from matplotlib->curve->line) (1.4.5)\n",
            "Requirement already satisfied: packaging>=20.0 in /usr/local/lib/python3.10/dist-packages (from matplotlib->curve->line) (24.1)\n",
            "Requirement already satisfied: pillow>=6.2.0 in /usr/local/lib/python3.10/dist-packages (from matplotlib->curve->line) (9.4.0)\n",
            "Requirement already satisfied: pyparsing>=2.3.1 in /usr/local/lib/python3.10/dist-packages (from matplotlib->curve->line) (3.1.2)\n",
            "Requirement already satisfied: python-dateutil>=2.7 in /usr/local/lib/python3.10/dist-packages (from matplotlib->curve->line) (2.8.2)\n",
            "Requirement already satisfied: six>=1.5 in /usr/local/lib/python3.10/dist-packages (from python-dateutil>=2.7->matplotlib->curve->line) (1.16.0)\n",
            "Building wheels for collected packages: line\n",
            "  Building wheel for line (setup.py) ... \u001b[?25l\u001b[?25hdone\n",
            "  Created wheel for line: filename=line-0.8.2-py3-none-any.whl size=13114 sha256=83f6b2e902872b9b7d996b760e58291b8b629e25c38d4d1eef98cf8530833a2e\n",
            "  Stored in directory: /root/.cache/pip/wheels/eb/ae/47/b9741394f80f1609051e02342eb16010d476ca844842581bb3\n",
            "Successfully built line\n",
            "Installing collected packages: curve, line\n",
            "Successfully installed curve-0.0.7 line-0.8.2\n"
          ]
        }
      ],
      "source": [
        "%pip install line"
      ]
    },
    {
      "cell_type": "code",
      "execution_count": null,
      "metadata": {
        "id": "8sECJS7_5QyS"
      },
      "outputs": [],
      "source": [
        "#import line"
      ]
    },
    {
      "cell_type": "code",
      "execution_count": null,
      "metadata": {
        "id": "NPdzBJWI5XK5"
      },
      "outputs": [],
      "source": [
        "import numpy as np"
      ]
    },
    {
      "cell_type": "code",
      "execution_count": 1,
      "metadata": {
        "id": "MyZH35TI5eol"
      },
      "outputs": [],
      "source": [
        "import sklearn"
      ]
    },
    {
      "cell_type": "code",
      "execution_count": 2,
      "metadata": {
        "id": "PVrObsvW5tYm"
      },
      "outputs": [],
      "source": [
        "saldo = 5000"
      ]
    },
    {
      "cell_type": "code",
      "execution_count": 3,
      "metadata": {
        "id": "-wfKtHabqIno"
      },
      "outputs": [],
      "source": [
        "def consultar_saldo(saldo):\n",
        "  print(\n",
        "     \"tu saldo es de:\", saldo, \"pesos. Gracias por consultar tu saldo\"\n",
        "  )\n",
        "  return saldo"
      ]
    },
    {
      "cell_type": "code",
      "execution_count": 4,
      "metadata": {
        "id": "KyzV8kDeqyUN"
      },
      "outputs": [],
      "source": [
        "def retirar_dinero(saldo):\n",
        "  retirar_dinero = int(input(\"Ingrese la catidad a retirar: \"))\n",
        "  if retirar_dinero > saldo:\n",
        "    print(\"No tienes suficiente saldo\")\n",
        "    return saldo\n",
        "  else:\n",
        "      saldo = saldo - retirar_dinero\n",
        "      print(\"RETIRO ESXITOSO. Su nuevo saldo es de \", saldo, \"pesos\")\n",
        "  return saldo - retirar_dinero"
      ]
    },
    {
      "cell_type": "code",
      "execution_count": 5,
      "metadata": {
        "id": "m5gxw4bKytQx"
      },
      "outputs": [],
      "source": [
        "def depositar_dinero(saldo):\n",
        "  depositar_dinero = int(input(\"Ingrese la cantidad a depositar: \"))\n",
        "  saldo = saldo + depositar_dinero\n",
        "  print(\"DEPOSITO EXITOSO. Su nuevo saldo es de \", saldo, \"pesos\")\n",
        "  return saldo + depositar_dinero"
      ]
    },
    {
      "cell_type": "code",
      "execution_count": 6,
      "metadata": {
        "id": "uNRDarqssqXz"
      },
      "outputs": [],
      "source": [
        "def transferir_dinero(saldo):\n",
        "  cuenta_destino = int(input(\"Ingrese la cuenta de destino: \"))\n",
        "  transferir_dinero = int(input(\"Ingrese la cantidad a transferir: \"))\n",
        "  if transferir_dinero > saldo:\n",
        "    print(\"No tienes suficiente saldo\")\n",
        "    return saldo\n",
        "  else:\n",
        "    saldo = saldo - transferir_dinero\n",
        "    print(\"TRANSFERENCIA EXITOSA. Ahora le queda\", saldo, \"pesos\")\n",
        "    return saldo - transferir_dinero"
      ]
    },
    {
      "cell_type": "code",
      "execution_count": 7,
      "metadata": {
        "id": "Gg9ANvxXvydc"
      },
      "outputs": [],
      "source": [
        "def mostrar_menu():\n",
        "  print(\"\\nSelecione una opción de la pantalla\")\n",
        "  print(\"1. Consultar saldo\")\n",
        "  print(\"2. Retirar dinero\")\n",
        "  print(\"3. Depositar dinero\")\n",
        "  print(\"4. Transferir dinero\")\n",
        "  print(\"5. Salir\")\n",
        "  return int(input(\"Ingrese una opción: \"))"
      ]
    },
    {
      "cell_type": "code",
      "execution_count": null,
      "metadata": {
        "colab": {
          "base_uri": "https://localhost:8080/"
        },
        "id": "8Sh8VMeNxKAF",
        "outputId": "b2b4d2c4-faff-451d-84f1-af05e3269614"
      },
      "outputs": [
        {
          "output_type": "stream",
          "name": "stdout",
          "text": [
            "\n",
            "Selecione una opción de la pantalla\n",
            "1. Consultar saldo\n",
            "2. Retirar dinero\n",
            "3. Depositar dinero\n",
            "4. Transferir dinero\n",
            "5. Salir\n"
          ]
        }
      ],
      "source": [
        "while True:\n",
        "  opcion = mostrar_menu()\n",
        "  if opcion == 1:\n",
        "    consultar_saldo(saldo)\n",
        "  elif opcion == 2:\n",
        "    retirar_dinero(saldo)\n",
        "  elif opcion == 3:\n",
        "    depositar_dinero(saldo)\n",
        "  elif opcion == 4:\n",
        "    transferir_dinero(saldo)\n",
        "  elif opcion == 5:\n",
        "    print(\"¡Gracias por utilizar nuestro simulador de cajero automático!\"\n",
        "          \"Si desea realizar otra operación, puede seleccionar una nueva opción.\"\n",
        "          \"En caso contrario, puede finalizar la transacción. servicio. Esperamos su regreso.\")\n",
        "    break\n",
        "  else:\n",
        "    print(\"Opción invalida. Porfavor ingrese una opción valida\")\n"
      ]
    },
    {
      "cell_type": "code",
      "execution_count": null,
      "metadata": {
        "id": "hRvIOdDiyQon"
      },
      "outputs": [],
      "source": []
    }
  ],
  "metadata": {
    "colab": {
      "provenance": [],
      "include_colab_link": true
    },
    "kernelspec": {
      "display_name": "Python 3",
      "name": "python3"
    },
    "language_info": {
      "name": "python"
    }
  },
  "nbformat": 4,
  "nbformat_minor": 0
}